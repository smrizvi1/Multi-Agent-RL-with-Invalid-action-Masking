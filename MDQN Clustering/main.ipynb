{
 "cells": [
  {
   "cell_type": "code",
   "execution_count": null,
   "id": "b9b5c977-785a-4c0d-b1a7-410e2a009731",
   "metadata": {},
   "outputs": [],
   "source": [
    "import numpy as np\n",
    "from environment import SystemModel\n",
    "from agents.dqn_agent import DQN\n",
    "from config import *\n",
    "import matplotlib.pyplot as plt\n",
    "\n",
    "def main():\n",
    "    T = 30  # Service time steps\n",
    "    Total_T = 340  # Total simulation steps\n",
    "    T_AS = np.arange(0, Total_T, T)  # User association timestamps\n",
    "    \n",
    "    # Initialize environment and agent\n",
    "    env = SystemModel()\n",
    "    agent = DQN()\n",
    "    \n",
    "    # Initialize metrics\n",
    "    datarate_seq = np.zeros(Total_T)\n",
    "    WorstuserRate_seq = np.zeros(Total_T)\n",
    "    UAV_trajectory = []\n",
    "    User_trajectory = []\n",
    "    p = 0  # Punishment counter\n",
    "\n",
    "    # Main simulation loop\n",
    "    for t in range(Total_T):\n",
    "        # Perform user association at designated timestamps\n",
    "        if t in T_AS:\n",
    "            User_AS_List = agent.User_association(env.PositionOfUAVs, env.PositionOfUsers,\n",
    "                                                NumberOfUAVs, Number"
   ]
  }
 ],
 "metadata": {
  "kernelspec": {
   "display_name": "Python 3 (ipykernel)",
   "language": "python",
   "name": "python3"
  },
  "language_info": {
   "codemirror_mode": {
    "name": "ipython",
    "version": 3
   },
   "file_extension": ".py",
   "mimetype": "text/x-python",
   "name": "python",
   "nbconvert_exporter": "python",
   "pygments_lexer": "ipython3",
   "version": "3.11.0"
  }
 },
 "nbformat": 4,
 "nbformat_minor": 5
}

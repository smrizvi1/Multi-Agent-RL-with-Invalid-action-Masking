{
 "cells": [
  {
   "cell_type": "code",
   "execution_count": null,
   "id": "145e2add-3002-46cd-b5f3-5c6743ba2404",
   "metadata": {},
   "outputs": [],
   "source": [
    "import os\n",
    "import tensorflow as tf\n",
    "\n",
    "# Environment Configuration\n",
    "ServiceZone_X = 500\n",
    "ServiceZone_Y = 500\n",
    "Height_limit_Z = 150\n",
    "MAXUserspeed = 0.1/3  # m/s\n",
    "PMAXUserspeed = 0.4/3  # m/s\n",
    "\n",
    "# UAV and User Configuration\n",
    "NumberOfUAVs = 2\n",
    "NumberOfCells = NumberOfUAVs\n",
    "NumberOfUsers = 4\n",
    "UserNumberPerCell = NumberOfUsers / NumberOfUAVs\n",
    "\n",
    "# Communication Parameters\n",
    "F_c = 2  # GHz\n",
    "Bandwidth = 30  # khz\n",
    "R_require = 0.15  # kb\n",
    "UAV_Speed = 5  # m/s\n",
    "UAV_power_unit = 100 * 100000  # 20mW\n",
    "NoisePower = 10 ** (-9) * 10000\n",
    "\n",
    "# DQN Hyperparameters\n",
    "UPDATE_FREQ = 2000\n",
    "REPLAY_SIZE = 20000\n",
    "BATCH_SIZE = 128\n",
    "GAMMA = 0.9\n",
    "LEARNING_RATE = 0.001\n",
    "\n",
    "# GPU Configuration\n",
    "os.environ[\"CUDA_DEVICE_ORDER\"] = \"PCI_BUS_ID\"\n",
    "os.environ[\"CUDA_VISIBLE_DEVICES\"] = \"0\"\n",
    "\n",
    "gpus = tf.config.experimental.list_physical_devices(device_type='GPU')\n",
    "for gpu in gpus:\n",
    "    tf.config.experimental.set_memory_growth(gpu, True)"
   ]
  }
 ],
 "metadata": {
  "kernelspec": {
   "display_name": "Python 3 (ipykernel)",
   "language": "python",
   "name": "python3"
  },
  "language_info": {
   "codemirror_mode": {
    "name": "ipython",
    "version": 3
   },
   "file_extension": ".py",
   "mimetype": "text/x-python",
   "name": "python",
   "nbconvert_exporter": "python",
   "pygments_lexer": "ipython3",
   "version": "3.11.0"
  }
 },
 "nbformat": 4,
 "nbformat_minor": 5
}

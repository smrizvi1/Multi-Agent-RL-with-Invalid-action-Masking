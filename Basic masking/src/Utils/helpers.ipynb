{
 "cells": [
  {
   "cell_type": "code",
   "execution_count": null,
   "id": "c6928ea2-5994-4e90-aa7c-113752732439",
   "metadata": {},
   "outputs": [],
   "source": [
    "import numpy as np\n",
    "\n",
    "def create_directory_structure():\n",
    "    \"\"\"Create necessary directories for saving results\"\"\"\n",
    "    import os\n",
    "    \n",
    "    dirs = ['results', 'models']\n",
    "    for dir_name in dirs:\n",
    "        if not os.path.exists(dir_name):\n",
    "            os.makedirs(dir_name)\n",
    "\n",
    "def calculate_distance_3d(pos1, pos2):\n",
    "    \"\"\"Calculate 3D Euclidean distance between two points\"\"\"\n",
    "    return np.sqrt(np.sum((pos1 - pos2) ** 2))\n",
    "\n",
    "def db_to_linear(db_value):\n",
    "    \"\"\"Convert dB value to linear scale\"\"\"\n",
    "    return 10 ** (db_value / 10)\n",
    "\n",
    "def linear_to_db(linear_value):\n",
    "    \"\"\"Convert linear scale to dB\"\"\"\n",
    "    return 10 * np.log10(linear_value)\n",
    "\n",
    "def calculate_path_loss(distance, frequency, height):\n",
    "    \"\"\"Calculate path loss based on the 3GPP model\"\"\"\n",
    "    wavelength = 3e8 / (frequency * 1e9)\n",
    "    return 20 * np.log10(4 * np.pi * distance / wavelength)"
   ]
  }
 ],
 "metadata": {
  "kernelspec": {
   "display_name": "Python 3 (ipykernel)",
   "language": "python",
   "name": "python3"
  },
  "language_info": {
   "codemirror_mode": {
    "name": "ipython",
    "version": 3
   },
   "file_extension": ".py",
   "mimetype": "text/x-python",
   "name": "python",
   "nbconvert_exporter": "python",
   "pygments_lexer": "ipython3",
   "version": "3.11.0"
  }
 },
 "nbformat": 4,
 "nbformat_minor": 5
}

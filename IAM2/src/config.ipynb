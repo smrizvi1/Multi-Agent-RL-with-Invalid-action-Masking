{
 "cells": [
  {
   "cell_type": "code",
   "execution_count": null,
   "id": "ca0f2c43-f6e5-447b-b476-4aaf951c8d5b",
   "metadata": {},
   "outputs": [],
   "source": [
    "# Configure GPU settings\n",
    "import os\n",
    "os.environ[\"CUDA_DEVICE_ORDER\"] = \"PCI_BUS_ID\"\n",
    "os.environ[\"CUDA_VISIBLE_DEVICES\"] = \"0\"\n",
    "import tensorflow as tf\n",
    "gpus = tf.config.experimental.list_physical_devices(device_type='GPU')\n",
    "for gpu in gpus:\n",
    "    tf.config.experimental.set_memory_growth(gpu, True)\n",
    "\n",
    "# System Parameters\n",
    "ServiceZone_X = 500\n",
    "ServiceZone_Y = 500\n",
    "Hight_limit_Z = 150\n",
    "MAXUserspeed = 0.1/3  # m/s\n",
    "PMAXUserspeed = 0.4/3  # m/s\n",
    "UserNumberPerCell = 2\n",
    "NumberOfUAVs = 3\n",
    "NumberOfCells = NumberOfUAVs\n",
    "NumberOfUsers = NumberOfUAVs * UserNumberPerCell\n",
    "F_c = 2  # GHz\n",
    "Bandwidth = 30  # kHz\n",
    "R_require = 0.15  # kb\n",
    "Power_level = 3\n",
    "UAV_Speed = 5  # m/s\n",
    "UAV_power_unit = 100 * 10000  # 20mW\n",
    "NoisePower = 10**(-9) * 10000"
   ]
  }
 ],
 "metadata": {
  "kernelspec": {
   "display_name": "Python 3 (ipykernel)",
   "language": "python",
   "name": "python3"
  },
  "language_info": {
   "codemirror_mode": {
    "name": "ipython",
    "version": 3
   },
   "file_extension": ".py",
   "mimetype": "text/x-python",
   "name": "python",
   "nbconvert_exporter": "python",
   "pygments_lexer": "ipython3",
   "version": "3.11.0"
  }
 },
 "nbformat": 4,
 "nbformat_minor": 5
}

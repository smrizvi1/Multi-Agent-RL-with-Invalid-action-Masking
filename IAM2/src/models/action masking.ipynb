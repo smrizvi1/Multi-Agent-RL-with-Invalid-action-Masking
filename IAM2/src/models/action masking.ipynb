{
 "cells": [
  {
   "cell_type": "code",
   "execution_count": null,
   "id": "c79bf497-ce3d-40ba-aeff-2666c79f6a55",
   "metadata": {},
   "outputs": [],
   "source": [
    "from tensorflow.keras.layers import Lambda\n",
    "import numpy as np\n",
    "from ..config.parameters import *\n",
    "\n",
    "class ActionMasking:\n",
    "    def __init__(self, action_dim=126):\n",
    "        self.action_dim = action_dim\n",
    "        self.movement_actions = list(range(7))  # up, down, forward, backward, left, right, hover\n",
    "        self.power_actions = {\n",
    "            1: list(range(63, 84)),    # Single user\n",
    "            2: list(range(0, 63)),     # Two users\n",
    "            3: list(range(84, 105)),   # Three users\n",
    "            4: list(range(105, 126))   # Four users\n",
    "        }\n",
    "        \n",
    "        # Create masking layer\n",
    "        self.masking_layer = self.create_masking_layer()\n",
    "\n",
    "    def create_masking_layer(self):\n",
    "        \"\"\"Create Lambda layer for action masking\"\"\"\n",
    "        def mask_actions(inputs):\n",
    "            q_values, mask = inputs\n",
    "            return q_values * mask\n",
    "        return Lambda(mask_actions)\n",
    "\n",
    "    def get_mask(self, cluster_size):\n",
    "        \"\"\"Generate binary mask for valid actions\"\"\"\n",
    "        mask = np.zeros(self.action_dim)  # Initialize all actions as invalid\n",
    "        \n",
    "        # Set movement actions as valid\n",
    "        mask[self.movement_actions] = 1.0\n",
    "        \n",
    "        # Set valid power allocation actions based on cluster size\n",
    "        valid_actions = self.power_actions.get(cluster_size, [])\n",
    "        mask[valid_actions] = 1.0\n",
    "        \n",
    "        return mask"
   ]
  }
 ],
 "metadata": {
  "kernelspec": {
   "display_name": "Python 3 (ipykernel)",
   "language": "python",
   "name": "python3"
  },
  "language_info": {
   "codemirror_mode": {
    "name": "ipython",
    "version": 3
   },
   "file_extension": ".py",
   "mimetype": "text/x-python",
   "name": "python",
   "nbconvert_exporter": "python",
   "pygments_lexer": "ipython3",
   "version": "3.11.0"
  }
 },
 "nbformat": 4,
 "nbformat_minor": 5
}
